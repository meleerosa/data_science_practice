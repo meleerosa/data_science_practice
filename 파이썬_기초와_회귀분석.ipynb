{
  "nbformat": 4,
  "nbformat_minor": 0,
  "metadata": {
    "colab": {
      "name": "파이썬 기초와 회귀분석.ipynb",
      "private_outputs": true,
      "provenance": [],
      "collapsed_sections": [],
      "include_colab_link": true
    },
    "kernelspec": {
      "name": "python3",
      "display_name": "Python 3"
    },
    "language_info": {
      "name": "python"
    }
  },
  "cells": [
    {
      "cell_type": "markdown",
      "metadata": {
        "id": "view-in-github",
        "colab_type": "text"
      },
      "source": [
        "<a href=\"https://colab.research.google.com/github/meleerosa/data_science_practice/blob/main/%ED%8C%8C%EC%9D%B4%EC%8D%AC_%EA%B8%B0%EC%B4%88%EC%99%80_%ED%9A%8C%EA%B7%80%EB%B6%84%EC%84%9D.ipynb\" target=\"_parent\"><img src=\"https://colab.research.google.com/assets/colab-badge.svg\" alt=\"Open In Colab\"/></a>"
      ]
    },
    {
      "cell_type": "markdown",
      "metadata": {
        "id": "vY8ORoKpbKIY"
      },
      "source": [
        "# Python Basic - Numpy"
      ]
    },
    {
      "cell_type": "code",
      "metadata": {
        "id": "oDUxeBXXbQ_Q"
      },
      "source": [
        "# Load Package\n",
        "import numpy as np"
      ],
      "execution_count": null,
      "outputs": []
    },
    {
      "cell_type": "markdown",
      "metadata": {
        "id": "239k8o84_uSE"
      },
      "source": [
        "## 배열 생성 및 데이터 타입 확인"
      ]
    },
    {
      "cell_type": "code",
      "metadata": {
        "id": "DFehMnrNwJCB"
      },
      "source": [
        "list1 = [1,0,2,3,4]\n",
        "arr1 = np.array(list1)\n",
        "print(arr1, type(arr1))\n",
        "print(\"Data type: \", type(arr1[0]))"
      ],
      "execution_count": null,
      "outputs": []
    },
    {
      "cell_type": "code",
      "metadata": {
        "id": "cUJSunYFwV7A"
      },
      "source": [
        "list2 = [1,0,2.1,3,4]\n",
        "arr2 = np.array(list2)\n",
        "print(arr2)\n",
        "print(\"Data type: \", type(arr2[0]))"
      ],
      "execution_count": null,
      "outputs": []
    },
    {
      "cell_type": "code",
      "metadata": {
        "id": "d5DWBSidbLGc"
      },
      "source": [
        "list3 = ['good', 'python', 'welcome', 'data']\n",
        "arr3 = np.array(list3)\n",
        "print(arr3)\n",
        "print(\"Data type: \", type(arr3[0]))"
      ],
      "execution_count": null,
      "outputs": []
    },
    {
      "cell_type": "code",
      "metadata": {
        "id": "OVob9sgj_sIl"
      },
      "source": [
        "# 1차원 배열 생성\n",
        "arr_1dim = np.array([0,1,2,3])\n",
        "print(\"1차원 배열\\n\",arr_1dim)\n",
        "print(\"Shape: \", arr_1dim.shape, '\\n')\n",
        "\n",
        "# 2차원 배열 생성\n",
        "arr_2dim = np.array([[1,2,]\n",
        "                     ,[3,4]])\n",
        "print(\"2차원 배열\\n\",arr_2dim)\n",
        "print(\"Shape: \", arr_2dim.shape, '\\n')\n",
        "\n",
        "# 3차원 배열 생성\n",
        "arr_3dim = np.array([[[1,2,],[3,4]],\n",
        "                     [[5,6],[7,8]]])\n",
        "print(\"3차원 배열\\n\", arr_3dim)\n",
        "print(\"Shape: \", arr_3dim.shape, '\\n')"
      ],
      "execution_count": null,
      "outputs": []
    },
    {
      "cell_type": "code",
      "metadata": {
        "id": "SuhnqthEAyW0"
      },
      "source": [
        "print(\"순차 배열\", np.arange(5))\n",
        "print(\"시작과 끝 지정 배열\", np.arange(1,5))\n",
        "print(\"건너뛰는 배열\", np.arange(0,10,2))"
      ],
      "execution_count": null,
      "outputs": []
    },
    {
      "cell_type": "markdown",
      "metadata": {
        "id": "OidqZLiUDUn_"
      },
      "source": [
        "## 배열 연산"
      ]
    },
    {
      "cell_type": "code",
      "metadata": {
        "id": "O7ruSzs1DXIV"
      },
      "source": [
        "arr1 = np.array([10,20,30,40])\n",
        "arr2 = np.array([1,2,3,4])\n",
        "print(\"배열 덧셈: \", arr1 + arr2)\n",
        "print(\"배열 뺄셈: \", arr1 - arr2)\n",
        "print(\"배열 곱셈: \", arr1 * 2) ## Broadcasting"
      ],
      "execution_count": null,
      "outputs": []
    },
    {
      "cell_type": "code",
      "metadata": {
        "id": "ynA6G-ncDXuu"
      },
      "source": [
        "print(\"배열 평균: \", arr1.mean())\n",
        "print(\"배열 표준편차: \", arr1.std())\n",
        "print(\"배열 Max: \", arr1.max())\n",
        "print(\"배열 Min: \", arr1.min())"
      ],
      "execution_count": null,
      "outputs": []
    },
    {
      "cell_type": "code",
      "metadata": {
        "id": "9Y0oAff6FwEw"
      },
      "source": [
        "arr1_2dim = arr1.reshape(2,2)\n",
        "arr2_2dim = arr2.reshape(2,2)\n",
        "print(\"행렬 곱: \\n\", arr1_2dim.dot(arr2_2dim), '\\n')\n",
        "print(\"전치 전: \\n\", arr1_2dim, \"\\n\")\n",
        "print(\"전치 후: \\n\", arr1_2dim.T, \"\\n\")"
      ],
      "execution_count": null,
      "outputs": []
    },
    {
      "cell_type": "markdown",
      "metadata": {
        "id": "1dIkFp5TGh1z"
      },
      "source": [
        "## 배열 다루기 기초"
      ]
    },
    {
      "cell_type": "code",
      "metadata": {
        "id": "qJF1frmCGhWC"
      },
      "source": [
        "# 인덱스 및 슬라이싱\n",
        "a1 = np.arange(10) ## a1 = [0,1,2,3,4,5,6,7,8,9]\n",
        "print(\"처음: \", a1[0])\n",
        "print(\"마지막: \", a1[-1])\n",
        "print(\"중간: \", a1[3:6])"
      ],
      "execution_count": null,
      "outputs": []
    },
    {
      "cell_type": "code",
      "metadata": {
        "id": "UpYcsBzLRXfz"
      },
      "source": [
        "## a2 = [0,1,2,3,4,5,6,7,8,9]\n",
        "a2 = np.arange(10)\n",
        "print(\"배열의 3번째 값: \", a2[2])\n",
        "a2[3] = 10\n",
        "print(\"변경 후 배열의 3번째 값: \", a2[2])"
      ],
      "execution_count": null,
      "outputs": []
    },
    {
      "cell_type": "markdown",
      "metadata": {
        "id": "pi2jp06wbOL_"
      },
      "source": [
        "# Python Basic - Pandas"
      ]
    },
    {
      "cell_type": "code",
      "metadata": {
        "id": "kl5yz53sbRZA"
      },
      "source": [
        "import pandas as pd"
      ],
      "execution_count": null,
      "outputs": []
    },
    {
      "cell_type": "markdown",
      "metadata": {
        "id": "7XtKaK9FoRlk"
      },
      "source": [
        "## 데이터프레임 선언"
      ]
    },
    {
      "cell_type": "code",
      "metadata": {
        "id": "1ua4SJPXoNXQ"
      },
      "source": [
        "# Series\n",
        "'''\n",
        "사용가능한 데이터 타입의 제한이 없음\n",
        "'''\n",
        "series = pd.Series([3,6,9,12])\n",
        "print(series)"
      ],
      "execution_count": null,
      "outputs": []
    },
    {
      "cell_type": "code",
      "metadata": {
        "id": "oKigx3rcpAZk"
      },
      "source": [
        "series.index = ['A','B','C','D']\n",
        "series"
      ],
      "execution_count": null,
      "outputs": []
    },
    {
      "cell_type": "code",
      "metadata": {
        "id": "WwiI5IyepKSx"
      },
      "source": [
        "# 딕서너리 자료형을 시리즈로 변환\n",
        "dict_series = pd.Series({'A':1, 'B':2, 'C':3, 'D':4})\n",
        "dict_series"
      ],
      "execution_count": null,
      "outputs": []
    },
    {
      "cell_type": "code",
      "metadata": {
        "id": "5WbHtRmooN_o"
      },
      "source": [
        "# Dataframe\n",
        "df = pd.DataFrame(np.arange(20).reshape(5,4), \n",
        "                  columns = ['A','B','C','D'], \n",
        "                  index = ['가','나','다','라','마'])\n",
        "df"
      ],
      "execution_count": null,
      "outputs": []
    },
    {
      "cell_type": "code",
      "metadata": {
        "id": "dCu3uCa8p_nz"
      },
      "source": [
        "print(\"컬럼 :\", df.columns)\n",
        "print(\"색인 :\", df.index)\n",
        "print(\"값 :\", df.values)"
      ],
      "execution_count": null,
      "outputs": []
    },
    {
      "cell_type": "code",
      "metadata": {
        "id": "B3Mf9rxlyXc0"
      },
      "source": [
        "df.head(2) # 위에서부터"
      ],
      "execution_count": null,
      "outputs": []
    },
    {
      "cell_type": "code",
      "metadata": {
        "id": "ZQIFXqZeycyd"
      },
      "source": [
        "df.tail(2) # 아래서부터"
      ],
      "execution_count": null,
      "outputs": []
    },
    {
      "cell_type": "markdown",
      "metadata": {
        "id": "HK1xtooas6zL"
      },
      "source": [
        "## 데이터프레임 연산"
      ]
    },
    {
      "cell_type": "code",
      "metadata": {
        "id": "4xUG0TGGsyfv"
      },
      "source": [
        "df2 = pd.DataFrame(np.arange(12).reshape(4,3), \n",
        "                  columns = ['A','B','C'], \n",
        "                  index = ['가', '나','다','라'])\n",
        "(df + df2)"
      ],
      "execution_count": null,
      "outputs": []
    },
    {
      "cell_type": "code",
      "metadata": {
        "id": "s6JDCXGkxwI3"
      },
      "source": [
        "# 통계량\n",
        "df.mean()"
      ],
      "execution_count": null,
      "outputs": []
    },
    {
      "cell_type": "code",
      "metadata": {
        "id": "cGGe-jnWx5xW"
      },
      "source": [
        "# 평균\n",
        "df.mean(axis = 1)"
      ],
      "execution_count": null,
      "outputs": []
    },
    {
      "cell_type": "code",
      "metadata": {
        "id": "Jdf2m6zqx8nx"
      },
      "source": [
        "# 표준편차\n",
        "df.std()"
      ],
      "execution_count": null,
      "outputs": []
    },
    {
      "cell_type": "code",
      "metadata": {
        "id": "jAMYPMGbyBGg"
      },
      "source": [
        "df.describe()"
      ],
      "execution_count": null,
      "outputs": []
    },
    {
      "cell_type": "markdown",
      "metadata": {
        "id": "Fu0yK-Uryx74"
      },
      "source": [
        "## 데이터프레임 슬라이싱"
      ]
    },
    {
      "cell_type": "code",
      "metadata": {
        "id": "h5b5O2x1yM7O"
      },
      "source": [
        "# 컬럼명을 이용하여 가져오기\n",
        "df['A']"
      ],
      "execution_count": null,
      "outputs": []
    },
    {
      "cell_type": "code",
      "metadata": {
        "id": "WDLRvKZXyNXX"
      },
      "source": [
        "df.loc['가']"
      ],
      "execution_count": null,
      "outputs": []
    },
    {
      "cell_type": "code",
      "metadata": {
        "id": "3rKIJex4zrto"
      },
      "source": [
        "df.loc['가'][0:2]"
      ],
      "execution_count": null,
      "outputs": []
    },
    {
      "cell_type": "code",
      "metadata": {
        "id": "OILyp08Mzd0F"
      },
      "source": [
        "df.loc[['가','나']]"
      ],
      "execution_count": null,
      "outputs": []
    },
    {
      "cell_type": "code",
      "metadata": {
        "id": "xBDF36iNziDc"
      },
      "source": [
        "# 인덱스를 이용하여 슬라이싱\n",
        "df.iloc[:, 1:] ## arg1 = y축, arg2 = x축"
      ],
      "execution_count": null,
      "outputs": []
    },
    {
      "cell_type": "code",
      "metadata": {
        "id": "hA26mhaRgQEf"
      },
      "source": [
        "df.iloc[2, 3] = 15\n",
        "df"
      ],
      "execution_count": null,
      "outputs": []
    },
    {
      "cell_type": "markdown",
      "metadata": {
        "id": "Wm1koS7r0D5_"
      },
      "source": [
        "## 데이터프레임 병합\n",
        "#### append, concat, join, merge 등 다양한 함수 제공"
      ]
    },
    {
      "cell_type": "code",
      "metadata": {
        "id": "bo7wuhv-0GQ4"
      },
      "source": [
        "test_df = pd.DataFrame(np.arange(25).reshape(5,5),\n",
        "                       columns = ['A','B','C','D','E'],\n",
        "                       index = ['가','나','다','라','마'])\n",
        "\n",
        "test_df2 = pd.DataFrame(np.arange(30,40).reshape(5,2),\n",
        "                       columns = ['X','Y'],\n",
        "                       index = ['가','나','다','라','마'])\n",
        "\n",
        "test_df3 = pd.DataFrame(np.arange(50,60).reshape(2,5),\n",
        "                       columns = ['A','B','C','D','E'],\n",
        "                       index = ['따오기','직박구리'])\n",
        "test_df3"
      ],
      "execution_count": null,
      "outputs": []
    },
    {
      "cell_type": "code",
      "metadata": {
        "id": "o4BIMVvu1p4p"
      },
      "source": [
        "# 가로병합\n",
        "test_df.join(test_df2)"
      ],
      "execution_count": null,
      "outputs": []
    },
    {
      "cell_type": "code",
      "metadata": {
        "id": "HZtDg_2R1tea"
      },
      "source": [
        "# 세로병합\n",
        "test_df.append(test_df3)"
      ],
      "execution_count": null,
      "outputs": []
    },
    {
      "cell_type": "code",
      "metadata": {
        "id": "bmEeKDNA2BLp"
      },
      "source": [
        "pd.concat([df,df2])"
      ],
      "execution_count": null,
      "outputs": []
    },
    {
      "cell_type": "code",
      "metadata": {
        "id": "iGDNzrb02Ej4"
      },
      "source": [
        "pd.concat([df,df2], axis = 1)"
      ],
      "execution_count": null,
      "outputs": []
    },
    {
      "cell_type": "markdown",
      "metadata": {
        "id": "HrNvgDh4ovUL"
      },
      "source": [
        "## 결측치 처리"
      ]
    },
    {
      "cell_type": "code",
      "metadata": {
        "id": "_zg2OKv8o0Z6"
      },
      "source": [
        "# Dataframe\n",
        "df = pd.DataFrame(np.arange(20).reshape(5,4), \n",
        "                  columns = ['A','B','C','D'], \n",
        "                  index = ['가','나','다','라','마'])\n",
        "df[\"A\"] = np.nan\n",
        "df"
      ],
      "execution_count": null,
      "outputs": []
    },
    {
      "cell_type": "code",
      "metadata": {
        "id": "Oa3GhfsUpvWK"
      },
      "source": [
        "# 0으로 결측치를 대체\n",
        "fill_zero = df.fillna(0)\n",
        "fill_zero"
      ],
      "execution_count": null,
      "outputs": []
    },
    {
      "cell_type": "markdown",
      "metadata": {
        "id": "pOAMuWGXqg-A"
      },
      "source": [
        "# Numpy에서 Pandas로"
      ]
    },
    {
      "cell_type": "code",
      "metadata": {
        "id": "w8BqTegoqmJw"
      },
      "source": [
        "## 배열 선언\n",
        "arr = np.arange(20).reshape(5,4)\n",
        "arr"
      ],
      "execution_count": null,
      "outputs": []
    },
    {
      "cell_type": "code",
      "metadata": {
        "id": "t8tdtHITq9Rq"
      },
      "source": [
        "# 배열에서 데이터프레임으로 변환\n",
        "df_NtoP = pd.DataFrame(arr, \n",
        "                  columns = ['A','B','C','D'], \n",
        "                  index = ['가','나','다','라','마'])\n",
        "df_NtoP"
      ],
      "execution_count": null,
      "outputs": []
    },
    {
      "cell_type": "code",
      "metadata": {
        "id": "o_a4cuhIrCKI"
      },
      "source": [
        "# 데이터프레임에서 배열로 변환 방법 - 1\n",
        "arr1 = df_NtoP.values\n",
        "arr1"
      ],
      "execution_count": null,
      "outputs": []
    },
    {
      "cell_type": "code",
      "metadata": {
        "id": "Eg_YbPkPrMkz"
      },
      "source": [
        "# 데이터프레임에서 배열로 변환 방법 - 2\n",
        "arr2 = df_NtoP.to_numpy()\n",
        "arr2"
      ],
      "execution_count": null,
      "outputs": []
    },
    {
      "cell_type": "markdown",
      "metadata": {
        "id": "823sSwBhbFCo"
      },
      "source": [
        "# Regression Analysis"
      ]
    },
    {
      "cell_type": "code",
      "metadata": {
        "id": "1FRTohOHXDCi"
      },
      "source": [
        "# Load Packages\n",
        "import pandas as pd\n",
        "import statsmodels.api as sm\n",
        "import matplotlib.pyplot as plt\n",
        "from scipy import stats\n",
        "import seaborn as sns"
      ],
      "execution_count": null,
      "outputs": []
    },
    {
      "cell_type": "code",
      "metadata": {
        "id": "tAq8TZMXYHFw"
      },
      "source": [
        "from google.colab import files\n",
        "uploaded = files.upload()"
      ],
      "execution_count": null,
      "outputs": []
    },
    {
      "cell_type": "code",
      "metadata": {
        "id": "nKTROf7UVw_s"
      },
      "source": [
        "from google.colab import drive\n",
        "drive.mount('/content/drive')"
      ],
      "execution_count": null,
      "outputs": []
    },
    {
      "cell_type": "code",
      "metadata": {
        "id": "YCtQdARYYAPz"
      },
      "source": [
        "import pandas as pd\n",
        "import io\n",
        "EuropeanCountries = pd.read_csv('/content/drive/MyDrive/Colab Notebooks/데이터분석수업/data.zip (Unzipped Files)/EuropeanCountries.csv')"
      ],
      "execution_count": null,
      "outputs": []
    },
    {
      "cell_type": "code",
      "metadata": {
        "id": "EEwwU2ocYRS9"
      },
      "source": [
        "EuropeanCountries"
      ],
      "execution_count": null,
      "outputs": []
    },
    {
      "cell_type": "code",
      "metadata": {
        "id": "y2Lgk3DSYTwp"
      },
      "source": [
        "feature_names=['AGR', 'MIN', 'MAN', 'PS', 'CON', 'SER', 'FIN', 'SPS', 'TC']\n",
        "#feature_names = EuropeanCountries.columns.tolist()\n",
        "EuropeanCountries_data_0=pd.DataFrame(EuropeanCountries.iloc[:,1:10], columns=feature_names)\n",
        "del EuropeanCountries_data_0['SPS']\n",
        "del EuropeanCountries_data_0['SER']\n",
        "EuropeanCountries_data = sm.add_constant(EuropeanCountries_data_0)"
      ],
      "execution_count": null,
      "outputs": []
    },
    {
      "cell_type": "code",
      "metadata": {
        "id": "jxrJhsx5ZEpB"
      },
      "source": [
        "EuropeanCountries_data"
      ],
      "execution_count": null,
      "outputs": []
    },
    {
      "cell_type": "code",
      "metadata": {
        "id": "v2foJQOFY9vn"
      },
      "source": [
        "EuropeanCountries_target=pd.DataFrame(EuropeanCountries['SER'], columns=['SER'])\n",
        "EuropeanCountries_target"
      ],
      "execution_count": null,
      "outputs": []
    },
    {
      "cell_type": "code",
      "metadata": {
        "id": "tZ_TeDftZM8T"
      },
      "source": [
        "model_European = sm.OLS(EuropeanCountries_target, EuropeanCountries_data)\n",
        "result_European = model_European.fit()\n",
        "result_European.summary()"
      ],
      "execution_count": null,
      "outputs": []
    },
    {
      "cell_type": "code",
      "metadata": {
        "id": "L9u6qs8KZThk"
      },
      "source": [
        "pred = result_European.predict(EuropeanCountries_data)\n",
        "resid = result_European.resid\n",
        "plt.scatter(pred, resid)\n",
        "plt.axhline(y=0, color='b', linewidth=0.8, linestyle='--')"
      ],
      "execution_count": null,
      "outputs": []
    },
    {
      "cell_type": "code",
      "metadata": {
        "id": "0r_ghUy2Zgt9"
      },
      "source": [
        "#정규분표 Barplot\n",
        "sns.distplot(EuropeanCountries_data['AGR'], fit=stats.norm)\n",
        "plt.show()"
      ],
      "execution_count": null,
      "outputs": []
    },
    {
      "cell_type": "code",
      "metadata": {
        "id": "lX1AzfcuZhNr"
      },
      "source": [
        "#QQ-plot\n",
        "stats.probplot(EuropeanCountries_data['AGR'], plot=plt)\n",
        "plt.show()"
      ],
      "execution_count": null,
      "outputs": []
    }
  ]
}